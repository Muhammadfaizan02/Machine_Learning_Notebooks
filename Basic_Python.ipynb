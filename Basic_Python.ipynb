{
 "cells": [
  {
   "cell_type": "markdown",
   "id": "c5b8d3ec",
   "metadata": {},
   "source": [
    "### *Chapter 01 - First Program*"
   ]
  },
  {
   "cell_type": "code",
   "execution_count": 1,
   "id": "f00c27c2",
   "metadata": {},
   "outputs": [
    {
     "name": "stdout",
     "output_type": "stream",
     "text": [
      "5\n"
     ]
    }
   ],
   "source": [
    "print(2+3)"
   ]
  },
  {
   "cell_type": "code",
   "execution_count": 2,
   "id": "d7fb1ccb",
   "metadata": {},
   "outputs": [
    {
     "name": "stdout",
     "output_type": "stream",
     "text": [
      "Hello world\n"
     ]
    }
   ],
   "source": [
    "print(\"Hello world\")"
   ]
  },
  {
   "cell_type": "code",
   "execution_count": 3,
   "id": "7313b2e0",
   "metadata": {},
   "outputs": [
    {
     "name": "stdout",
     "output_type": "stream",
     "text": [
      "we are learning Python with Ammar\n"
     ]
    }
   ],
   "source": [
    "print(\"we are learning Python with Ammar\")"
   ]
  },
  {
   "cell_type": "markdown",
   "id": "52a58582",
   "metadata": {},
   "source": [
    "### *Chapter 0 - Operators*     "
   ]
  },
  {
   "cell_type": "code",
   "execution_count": 4,
   "id": "6810afff",
   "metadata": {},
   "outputs": [
    {
     "name": "stdout",
     "output_type": "stream",
     "text": [
      "5\n"
     ]
    }
   ],
   "source": [
    "print(2+3)"
   ]
  },
  {
   "cell_type": "code",
   "execution_count": 5,
   "id": "8d4d343e",
   "metadata": {},
   "outputs": [
    {
     "name": "stdout",
     "output_type": "stream",
     "text": [
      "2\n"
     ]
    }
   ],
   "source": [
    "print(3-1)"
   ]
  },
  {
   "cell_type": "code",
   "execution_count": 6,
   "id": "a84c8ebe",
   "metadata": {},
   "outputs": [
    {
     "name": "stdout",
     "output_type": "stream",
     "text": [
      "3.0\n"
     ]
    }
   ],
   "source": [
    "print(6/2)"
   ]
  },
  {
   "cell_type": "code",
   "execution_count": 7,
   "id": "1bb4d469",
   "metadata": {},
   "outputs": [
    {
     "name": "stdout",
     "output_type": "stream",
     "text": [
      "6\n"
     ]
    }
   ],
   "source": [
    "print(2*3)"
   ]
  },
  {
   "cell_type": "code",
   "execution_count": 8,
   "id": "14a95ebd",
   "metadata": {},
   "outputs": [
    {
     "name": "stdout",
     "output_type": "stream",
     "text": [
      "1\n"
     ]
    }
   ],
   "source": [
    "print(13%2)"
   ]
  },
  {
   "cell_type": "code",
   "execution_count": 9,
   "id": "ba9316e2",
   "metadata": {},
   "outputs": [
    {
     "name": "stdout",
     "output_type": "stream",
     "text": [
      "3\n"
     ]
    }
   ],
   "source": [
    "print(6//2)"
   ]
  },
  {
   "cell_type": "code",
   "execution_count": 10,
   "id": "3f9a79f2",
   "metadata": {},
   "outputs": [
    {
     "name": "stdout",
     "output_type": "stream",
     "text": [
      "8\n"
     ]
    }
   ],
   "source": [
    "print(2**3)"
   ]
  },
  {
   "cell_type": "code",
   "execution_count": 11,
   "id": "30308444",
   "metadata": {},
   "outputs": [
    {
     "name": "stdout",
     "output_type": "stream",
     "text": [
      "12.0\n"
     ]
    }
   ],
   "source": [
    "print(4**2/2*5/5+8-4)   # PEMDAS"
   ]
  },
  {
   "cell_type": "markdown",
   "id": "79b615e1",
   "metadata": {},
   "source": [
    "### *Chapter 02 - Strings*"
   ]
  },
  {
   "cell_type": "code",
   "execution_count": 12,
   "id": "1b4d0e29",
   "metadata": {},
   "outputs": [
    {
     "name": "stdout",
     "output_type": "stream",
     "text": [
      "Test for single quotes\n"
     ]
    }
   ],
   "source": [
    "print('Test for single quotes')   "
   ]
  },
  {
   "cell_type": "code",
   "execution_count": 13,
   "id": "916106e3",
   "metadata": {},
   "outputs": [
    {
     "name": "stdout",
     "output_type": "stream",
     "text": [
      "Test for double quotes\n"
     ]
    }
   ],
   "source": [
    "print(\"Test for double quotes\")"
   ]
  },
  {
   "cell_type": "code",
   "execution_count": 14,
   "id": "f208b1c1",
   "metadata": {},
   "outputs": [
    {
     "name": "stdout",
     "output_type": "stream",
     "text": [
      "test for triple quotes\n"
     ]
    }
   ],
   "source": [
    "print(\"test for triple quotes\")"
   ]
  },
  {
   "cell_type": "code",
   "execution_count": 15,
   "id": "7ae1359a",
   "metadata": {},
   "outputs": [
    {
     "name": "stdout",
     "output_type": "stream",
     "text": [
      "What's up!\n"
     ]
    }
   ],
   "source": [
    "print(\"What's up!\")"
   ]
  },
  {
   "cell_type": "code",
   "execution_count": 16,
   "id": "c49b574d",
   "metadata": {},
   "outputs": [
    {
     "name": "stdout",
     "output_type": "stream",
     "text": [
      "Muhammad Faizan Ahmed\n"
     ]
    }
   ],
   "source": [
    "print(\"Muhammad Faizan Ahmed\")"
   ]
  },
  {
   "cell_type": "markdown",
   "id": "5d964f02",
   "metadata": {},
   "source": [
    "### *Chapter 04 - Comments*\n",
    "\n",
    "comment helps us to understand the code easily."
   ]
  },
  {
   "cell_type": "code",
   "execution_count": 17,
   "id": "85833d4e",
   "metadata": {},
   "outputs": [
    {
     "name": "stdout",
     "output_type": "stream",
     "text": [
      "9\n"
     ]
    }
   ],
   "source": [
    "print(2+7)   # Adding two numbers"
   ]
  },
  {
   "cell_type": "code",
   "execution_count": 18,
   "id": "e3d4c9d7",
   "metadata": {},
   "outputs": [],
   "source": [
    "#print(\"Hello World\")    # Skipping any specific line of code"
   ]
  },
  {
   "cell_type": "markdown",
   "id": "daa41363",
   "metadata": {},
   "source": [
    "### *Chapter 05 - Variables*\n",
    "\n",
    "Variable is used to store any value like a container"
   ]
  },
  {
   "cell_type": "code",
   "execution_count": 19,
   "id": "79bd0ee8",
   "metadata": {},
   "outputs": [
    {
     "name": "stdout",
     "output_type": "stream",
     "text": [
      "5\n"
     ]
    }
   ],
   "source": [
    "x = 5  # numeric or integer variable\n",
    "print(x)"
   ]
  },
  {
   "cell_type": "code",
   "execution_count": 20,
   "id": "4bb79492",
   "metadata": {},
   "outputs": [
    {
     "name": "stdout",
     "output_type": "stream",
     "text": [
      "We are learning Python with Ammar\n"
     ]
    }
   ],
   "source": [
    "y = \"We are learning Python with Ammar\"   # String variable\n",
    "print(y)"
   ]
  },
  {
   "cell_type": "code",
   "execution_count": 21,
   "id": "205369b6",
   "metadata": {},
   "outputs": [
    {
     "name": "stdout",
     "output_type": "stream",
     "text": [
      "15\n"
     ]
    }
   ],
   "source": [
    "x = 15      # Overwritting previous value of x\n",
    "print(x)"
   ]
  },
  {
   "cell_type": "markdown",
   "id": "84cb96c1",
   "metadata": {},
   "source": [
    "Types of Variable"
   ]
  },
  {
   "cell_type": "code",
   "execution_count": 22,
   "id": "55100a5b",
   "metadata": {},
   "outputs": [
    {
     "data": {
      "text/plain": [
       "int"
      ]
     },
     "execution_count": 22,
     "metadata": {},
     "output_type": "execute_result"
    }
   ],
   "source": [
    "type(x)"
   ]
  },
  {
   "cell_type": "code",
   "execution_count": 23,
   "id": "ae20544d",
   "metadata": {},
   "outputs": [
    {
     "data": {
      "text/plain": [
       "str"
      ]
     },
     "execution_count": 23,
     "metadata": {},
     "output_type": "execute_result"
    }
   ],
   "source": [
    "type(y)"
   ]
  },
  {
   "cell_type": "code",
   "execution_count": 24,
   "id": "f78ba9e6",
   "metadata": {},
   "outputs": [
    {
     "data": {
      "text/plain": [
       "float"
      ]
     },
     "execution_count": 24,
     "metadata": {},
     "output_type": "execute_result"
    }
   ],
   "source": [
    "a = 15.7\n",
    "type(a)"
   ]
  },
  {
   "cell_type": "markdown",
   "id": "229c8fd9",
   "metadata": {},
   "source": [
    "**Rules for assigning variable name**\n",
    "\n",
    "1- The variable should contain letters, numbers or underscores.                                         \n",
    "2- Do not start with numbers, otherwise error                                                 \n",
    "3- Spaces are not allowed, otherwise error                                                                 \n",
    "4- Do not use keywords used in functions(break, mean, median, test etc.), otherwise error                         \n",
    "5- Short and Descriptive                                                                  \n",
    "6- Case sensitivity (lowercase, uppercase letters. preferred : lowercase letters)"
   ]
  },
  {
   "cell_type": "code",
   "execution_count": 25,
   "id": "fbb2922f",
   "metadata": {},
   "outputs": [
    {
     "data": {
      "text/plain": [
       "5"
      ]
     },
     "execution_count": 25,
     "metadata": {},
     "output_type": "execute_result"
    }
   ],
   "source": [
    "x_32 = 5    # Rule 1\n",
    "x_32"
   ]
  },
  {
   "cell_type": "code",
   "execution_count": 26,
   "id": "3c0467bc",
   "metadata": {},
   "outputs": [
    {
     "ename": "SyntaxError",
     "evalue": "invalid syntax (<ipython-input-26-80d50b9ed686>, line 1)",
     "output_type": "error",
     "traceback": [
      "\u001b[1;36m  File \u001b[1;32m\"<ipython-input-26-80d50b9ed686>\"\u001b[1;36m, line \u001b[1;32m1\u001b[0m\n\u001b[1;33m    12x = 10    # Rule 2 - Showing error if variable is not named according to given rules\u001b[0m\n\u001b[1;37m      ^\u001b[0m\n\u001b[1;31mSyntaxError\u001b[0m\u001b[1;31m:\u001b[0m invalid syntax\n"
     ]
    }
   ],
   "source": [
    "12x = 10    # Rule 2 - Showing error if variable is not named according to given rules"
   ]
  },
  {
   "cell_type": "code",
   "execution_count": 27,
   "id": "5b1d2a29",
   "metadata": {},
   "outputs": [
    {
     "ename": "SyntaxError",
     "evalue": "invalid syntax (<ipython-input-27-050a5d3b574e>, line 1)",
     "output_type": "error",
     "traceback": [
      "\u001b[1;36m  File \u001b[1;32m\"<ipython-input-27-050a5d3b574e>\"\u001b[1;36m, line \u001b[1;32m1\u001b[0m\n\u001b[1;33m    x y = 34    # Rule 3 - Showing error if variable is not named according to given rules\u001b[0m\n\u001b[1;37m      ^\u001b[0m\n\u001b[1;31mSyntaxError\u001b[0m\u001b[1;31m:\u001b[0m invalid syntax\n"
     ]
    }
   ],
   "source": [
    "x y = 34    # Rule 3 - Showing error if variable is not named according to given rules"
   ]
  },
  {
   "cell_type": "code",
   "execution_count": 28,
   "id": "51868ad5",
   "metadata": {},
   "outputs": [
    {
     "ename": "SyntaxError",
     "evalue": "invalid syntax (<ipython-input-28-16ddc82d005a>, line 1)",
     "output_type": "error",
     "traceback": [
      "\u001b[1;36m  File \u001b[1;32m\"<ipython-input-28-16ddc82d005a>\"\u001b[1;36m, line \u001b[1;32m1\u001b[0m\n\u001b[1;33m    break = \"Hello\"    # Rule 4 - Showing error if variable is not named according to given rules\u001b[0m\n\u001b[1;37m          ^\u001b[0m\n\u001b[1;31mSyntaxError\u001b[0m\u001b[1;31m:\u001b[0m invalid syntax\n"
     ]
    }
   ],
   "source": [
    "break = \"Hello\"    # Rule 4 - Showing error if variable is not named according to given rules"
   ]
  },
  {
   "cell_type": "code",
   "execution_count": 29,
   "id": "fdbd6cdd",
   "metadata": {},
   "outputs": [
    {
     "data": {
      "text/plain": [
       "'Apple'"
      ]
     },
     "execution_count": 29,
     "metadata": {},
     "output_type": "execute_result"
    }
   ],
   "source": [
    "fruit = \"Apple\"    # Rule 5\n",
    "fruit"
   ]
  },
  {
   "cell_type": "markdown",
   "id": "83ca2061",
   "metadata": {},
   "source": [
    "### *Chapter 06 - Input Variables*"
   ]
  },
  {
   "cell_type": "code",
   "execution_count": 30,
   "id": "7ad2ca43",
   "metadata": {},
   "outputs": [
    {
     "name": "stdout",
     "output_type": "stream",
     "text": [
      "Who's your favorite cricket player? Babar Azam\n",
      "Babar Azam\n"
     ]
    }
   ],
   "source": [
    "# Simple Input function\n",
    "\n",
    "favorite_player = input(\"Who's your favorite cricket player? \")\n",
    "print(favorite_player)"
   ]
  },
  {
   "cell_type": "code",
   "execution_count": 31,
   "id": "1036c94f",
   "metadata": {},
   "outputs": [
    {
     "name": "stdout",
     "output_type": "stream",
     "text": [
      "What is your name? Muhammad Faizan Ahmed\n",
      "Assalam-u-Alaikum! Muhammad Faizan Ahmed\n"
     ]
    }
   ],
   "source": [
    "# Input Function of 2nd stage\n",
    "\n",
    "name = input(\"What is your name? \")\n",
    "greetings = \"Assalam-u-Alaikum!\"\n",
    "\n",
    "print(greetings, name)\n",
    "\n"
   ]
  },
  {
   "cell_type": "code",
   "execution_count": 32,
   "id": "126bd18b",
   "metadata": {},
   "outputs": [
    {
     "name": "stdout",
     "output_type": "stream",
     "text": [
      "What is your name? Muhammad Faizan Ahmed\n",
      "Hello! Muhammad Faizan Ahmed\n"
     ]
    }
   ],
   "source": [
    "# Another way of 2nd stage\n",
    "\n",
    "name = input(\"What is your name? \")\n",
    "\n",
    "print(\"Hello!\", name)"
   ]
  },
  {
   "cell_type": "code",
   "execution_count": 33,
   "id": "3597f0b8",
   "metadata": {},
   "outputs": [
    {
     "name": "stdout",
     "output_type": "stream",
     "text": [
      "What is your name? Muhammad Faizan Ahmed\n",
      "How old are you? 21\n",
      "Hello! Muhammad Faizan Ahmed. You're still young.\n"
     ]
    }
   ],
   "source": [
    "# Input function of 3rd stage\n",
    "\n",
    "name = input(\"What is your name? \")\n",
    "age  = input(\"How old are you? \")\n",
    "\n",
    "print(\"Hello!\", name + \". You're still young.\")"
   ]
  },
  {
   "cell_type": "markdown",
   "id": "234aea40",
   "metadata": {},
   "source": [
    "### *Chapter 07 - Conditional Logics*"
   ]
  },
  {
   "cell_type": "code",
   "execution_count": 34,
   "id": "c149424b",
   "metadata": {},
   "outputs": [
    {
     "name": "stdout",
     "output_type": "stream",
     "text": [
      "True\n"
     ]
    }
   ],
   "source": [
    "print(4==4)"
   ]
  },
  {
   "cell_type": "code",
   "execution_count": 35,
   "id": "bbd54a69",
   "metadata": {},
   "outputs": [
    {
     "name": "stdout",
     "output_type": "stream",
     "text": [
      "False\n"
     ]
    }
   ],
   "source": [
    "print(4 != 4)"
   ]
  },
  {
   "cell_type": "code",
   "execution_count": 36,
   "id": "b684bd63",
   "metadata": {},
   "outputs": [
    {
     "name": "stdout",
     "output_type": "stream",
     "text": [
      "False\n"
     ]
    }
   ],
   "source": [
    "print(5 > 7)"
   ]
  },
  {
   "cell_type": "code",
   "execution_count": 37,
   "id": "856779be",
   "metadata": {},
   "outputs": [
    {
     "name": "stdout",
     "output_type": "stream",
     "text": [
      "True\n"
     ]
    }
   ],
   "source": [
    "print(5 < 7)"
   ]
  },
  {
   "cell_type": "code",
   "execution_count": 38,
   "id": "ad5fb858",
   "metadata": {},
   "outputs": [
    {
     "name": "stdout",
     "output_type": "stream",
     "text": [
      "True\n"
     ]
    }
   ],
   "source": [
    "print(5 <= 7)"
   ]
  },
  {
   "cell_type": "code",
   "execution_count": 39,
   "id": "b4249036",
   "metadata": {},
   "outputs": [
    {
     "name": "stdout",
     "output_type": "stream",
     "text": [
      "True\n"
     ]
    }
   ],
   "source": [
    "print(4 >= 3)"
   ]
  },
  {
   "cell_type": "markdown",
   "id": "b5f01b8b",
   "metadata": {},
   "source": [
    "Application of Logical Operator"
   ]
  },
  {
   "cell_type": "code",
   "execution_count": 40,
   "id": "eef5d635",
   "metadata": {},
   "outputs": [
    {
     "name": "stdout",
     "output_type": "stream",
     "text": [
      "False\n"
     ]
    }
   ],
   "source": [
    "zeeshan_age = 3\n",
    "age_at_school = 5\n",
    "\n",
    "print(zeeshan_age==age_at_school)"
   ]
  },
  {
   "cell_type": "code",
   "execution_count": 44,
   "id": "2e220b8c",
   "metadata": {},
   "outputs": [
    {
     "name": "stdout",
     "output_type": "stream",
     "text": [
      "How old is zeeshan? 5\n",
      "True\n"
     ]
    }
   ],
   "source": [
    "zeeshan_age = int(input(\"How old is zeeshan? \"))\n",
    "age_at_school = 5\n",
    "\n",
    "print(zeeshan_age >= age_at_school)"
   ]
  },
  {
   "cell_type": "markdown",
   "id": "00f397b7",
   "metadata": {},
   "source": [
    "### *Chapter 08 - Type Conversion*"
   ]
  },
  {
   "cell_type": "code",
   "execution_count": 45,
   "id": "9e9a181c",
   "metadata": {},
   "outputs": [
    {
     "name": "stdout",
     "output_type": "stream",
     "text": [
      "<class 'int'>\n"
     ]
    }
   ],
   "source": [
    "x = 10 \n",
    "print(type(x))"
   ]
  },
  {
   "cell_type": "code",
   "execution_count": 46,
   "id": "0195074f",
   "metadata": {},
   "outputs": [
    {
     "name": "stdout",
     "output_type": "stream",
     "text": [
      "<class 'float'>\n"
     ]
    }
   ],
   "source": [
    "y = 15.2\n",
    "print(type(y))"
   ]
  },
  {
   "cell_type": "code",
   "execution_count": 47,
   "id": "dd4d8fd7",
   "metadata": {},
   "outputs": [
    {
     "name": "stdout",
     "output_type": "stream",
     "text": [
      "<class 'float'>\n"
     ]
    }
   ],
   "source": [
    "x = x*y\n",
    "print(type(x))"
   ]
  },
  {
   "cell_type": "code",
   "execution_count": 48,
   "id": "517df8ac",
   "metadata": {},
   "outputs": [
    {
     "name": "stdout",
     "output_type": "stream",
     "text": [
      "What is your name? Muhammad Faizan Ahmed\n",
      "Muhammad Faizan Ahmed <class 'str'>\n"
     ]
    }
   ],
   "source": [
    "name = input(\"What is your name? \")\n",
    "\n",
    "print(name, type(str(name)))"
   ]
  },
  {
   "cell_type": "markdown",
   "id": "e3f88b61",
   "metadata": {},
   "source": [
    "### *Chapter 09 - if elif & else*"
   ]
  },
  {
   "cell_type": "code",
   "execution_count": 50,
   "id": "e6f5f6c2",
   "metadata": {},
   "outputs": [
    {
     "name": "stdout",
     "output_type": "stream",
     "text": [
      "Zeeshan should join Higher Secondary School.\n"
     ]
    }
   ],
   "source": [
    "zeeshan_age = 10\n",
    "age_at_school = 5\n",
    "\n",
    "if zeeshan_age == age_at_school:\n",
    "    print(\"Zeeshan can go to School.\")\n",
    "    \n",
    "elif zeeshan_age >= age_at_school:\n",
    "    print(\"Zeeshan should join Higher Secondary School.\")\n",
    "    \n",
    "else:\n",
    "    print(\"Zeeshan cannot go to School.\")"
   ]
  },
  {
   "cell_type": "markdown",
   "id": "7c70224b",
   "metadata": {},
   "source": [
    "### *Chapter 10 - Functions*"
   ]
  },
  {
   "cell_type": "code",
   "execution_count": 53,
   "id": "ed4449eb",
   "metadata": {},
   "outputs": [
    {
     "name": "stdout",
     "output_type": "stream",
     "text": [
      "Hello! Muhammad Faizan Ahmed\n",
      "Hello! Muhammad Faizan Ahmed\n",
      "Hello! Muhammad Faizan Ahmed\n",
      "Hello! Muhammad Faizan Ahmed\n"
     ]
    }
   ],
   "source": [
    "def Greetings(name):\n",
    "    print(\"Hello!\", name )\n",
    "    print(\"Hello!\", name )\n",
    "    print(\"Hello!\", name )\n",
    "    print(\"Hello!\", name )\n",
    "    \n",
    "    \n",
    "Greetings(\"Muhammad Faizan Ahmed\")"
   ]
  },
  {
   "cell_type": "markdown",
   "id": "5de1b881",
   "metadata": {},
   "source": [
    "**School Calculator**"
   ]
  },
  {
   "cell_type": "code",
   "execution_count": 56,
   "id": "1c81c7a3",
   "metadata": {},
   "outputs": [
    {
     "name": "stdout",
     "output_type": "stream",
     "text": [
      "What is the child name? Zeeshan\n",
      "How old is your child ?13\n",
      "--------------Calculating--------------------\n",
      "Zeeshan should join Higher Secondary School.\n"
     ]
    }
   ],
   "source": [
    "def school_calculator(name,age):\n",
    "    \n",
    "    if age == 5:\n",
    "        print(name, \"can join School.\")\n",
    "        \n",
    "    elif age > 5:\n",
    "        print(name, \"should join Higher Secondary School.\")\n",
    "        \n",
    "    else:\n",
    "        print(\"You should take care of\", name)\n",
    "        \n",
    "name = input(\"What is the child name? \")\n",
    "age  = int(input(\"How old is your child ?\"))\n",
    "\n",
    "print(\"--------------Calculating--------------------\")\n",
    "school_calculator(name,age)"
   ]
  },
  {
   "cell_type": "code",
   "execution_count": 60,
   "id": "2b1d0e9d",
   "metadata": {},
   "outputs": [
    {
     "name": "stdout",
     "output_type": "stream",
     "text": [
      "Enter your current age? 20\n",
      "After 10 Years, Your age will be : 30\n"
     ]
    }
   ],
   "source": [
    "current_age = int(input(\"Enter your current age? \"))\n",
    "\n",
    "def future_age_after_10_Years(current_age):\n",
    "    new_age = current_age + 10\n",
    "    return new_age\n",
    "    \n",
    "New_age = future_age_after_10_Years(current_age)\n",
    "print(\"After 10 Years, Your age will be :\", New_age)"
   ]
  },
  {
   "cell_type": "markdown",
   "id": "20aa5b90",
   "metadata": {},
   "source": [
    "### *Chapter 11 - While & for loops*"
   ]
  },
  {
   "cell_type": "code",
   "execution_count": 62,
   "id": "47dd31ff",
   "metadata": {},
   "outputs": [
    {
     "name": "stdout",
     "output_type": "stream",
     "text": [
      "0\n",
      "1\n",
      "2\n",
      "3\n",
      "4\n",
      "5\n"
     ]
    }
   ],
   "source": [
    "# While Loop\n",
    "x = 0\n",
    "\n",
    "while x <= 5 :\n",
    "    print(x)\n",
    "    x = x+1"
   ]
  },
  {
   "cell_type": "code",
   "execution_count": 63,
   "id": "f5ae2c3e",
   "metadata": {},
   "outputs": [
    {
     "name": "stdout",
     "output_type": "stream",
     "text": [
      "2\n",
      "3\n",
      "4\n",
      "5\n",
      "6\n",
      "7\n",
      "8\n",
      "9\n"
     ]
    }
   ],
   "source": [
    "# For Loop\n",
    "\n",
    "for x in range(2,10):\n",
    "    print(x)"
   ]
  },
  {
   "cell_type": "code",
   "execution_count": 64,
   "id": "931bb1fd",
   "metadata": {},
   "outputs": [
    {
     "name": "stdout",
     "output_type": "stream",
     "text": [
      "Saturday\n",
      "Sunday\n",
      "Monday\n",
      "Tuesday\n",
      "Wednesday\n",
      "Thursday\n",
      "Friday\n"
     ]
    }
   ],
   "source": [
    "days = [\"Saturday\",\"Sunday\",\"Monday\",\"Tuesday\",\"Wednesday\",\"Thursday\",\"Friday\"]\n",
    "\n",
    "for d in days:\n",
    "    print(d)"
   ]
  },
  {
   "cell_type": "code",
   "execution_count": 65,
   "id": "69f23ab5",
   "metadata": {},
   "outputs": [
    {
     "name": "stdout",
     "output_type": "stream",
     "text": [
      "Saturday\n",
      "Sunday\n",
      "Monday\n",
      "Tuesday\n"
     ]
    }
   ],
   "source": [
    "# Break Statement\n",
    "\n",
    "for d in days:\n",
    "    if d == \"Wednesday\":\n",
    "        break\n",
    "    print(d)"
   ]
  },
  {
   "cell_type": "code",
   "execution_count": 67,
   "id": "98ee56fc",
   "metadata": {},
   "outputs": [
    {
     "name": "stdout",
     "output_type": "stream",
     "text": [
      "Saturday\n",
      "Sunday\n",
      "Monday\n",
      "Wednesday\n",
      "Thursday\n",
      "Friday\n"
     ]
    }
   ],
   "source": [
    "# Continue Statement\n",
    "\n",
    "for d in days:\n",
    "    if d == \"Tuesday\":\n",
    "        continue\n",
    "    print(d)"
   ]
  },
  {
   "cell_type": "markdown",
   "id": "de1964a2",
   "metadata": {},
   "source": [
    "### *Chapter 12 - Importing Libraries*"
   ]
  },
  {
   "cell_type": "code",
   "execution_count": 68,
   "id": "9ab660bb",
   "metadata": {},
   "outputs": [],
   "source": [
    "import math"
   ]
  },
  {
   "cell_type": "code",
   "execution_count": 69,
   "id": "50bdd82f",
   "metadata": {},
   "outputs": [
    {
     "name": "stdout",
     "output_type": "stream",
     "text": [
      "The value of pi is : 3.141592653589793\n"
     ]
    }
   ],
   "source": [
    "print(\"The value of pi is :\", math.pi)"
   ]
  },
  {
   "cell_type": "code",
   "execution_count": 70,
   "id": "ca6b5c0e",
   "metadata": {},
   "outputs": [
    {
     "name": "stdout",
     "output_type": "stream",
     "text": [
      "The sin of 30 is : -0.9880316240928618\n"
     ]
    }
   ],
   "source": [
    "print(\"The sin of 30 is :\", math.sin(30))"
   ]
  },
  {
   "cell_type": "code",
   "execution_count": 71,
   "id": "58638efe",
   "metadata": {},
   "outputs": [],
   "source": [
    "import statistics"
   ]
  },
  {
   "cell_type": "code",
   "execution_count": 72,
   "id": "8e1682df",
   "metadata": {},
   "outputs": [
    {
     "name": "stdout",
     "output_type": "stream",
     "text": [
      "The mean is : 212.5\n"
     ]
    }
   ],
   "source": [
    "z = [150,250,330,120]\n",
    "\n",
    "print(\"The mean is :\", statistics.mean(z))"
   ]
  },
  {
   "cell_type": "markdown",
   "id": "63350832",
   "metadata": {},
   "source": [
    "### *Chapter 13 - Trouble Shooting*\n",
    "\n",
    "**Types of Error**\n",
    "\n",
    "1- Syntax Error\n",
    "2- Runtime Error\n",
    "3- Semantic Error"
   ]
  },
  {
   "cell_type": "code",
   "execution_count": 73,
   "id": "c620277e",
   "metadata": {},
   "outputs": [
    {
     "ename": "SyntaxError",
     "evalue": "invalid syntax (<ipython-input-73-2bc105073ba4>, line 1)",
     "output_type": "error",
     "traceback": [
      "\u001b[1;36m  File \u001b[1;32m\"<ipython-input-73-2bc105073ba4>\"\u001b[1;36m, line \u001b[1;32m1\u001b[0m\n\u001b[1;33m    print(Hello, Muhammad Faizan Ahmed)    # Syntax Error\u001b[0m\n\u001b[1;37m                          ^\u001b[0m\n\u001b[1;31mSyntaxError\u001b[0m\u001b[1;31m:\u001b[0m invalid syntax\n"
     ]
    }
   ],
   "source": [
    "print(Hello, Muhammad Faizan Ahmed)    # Syntax Error"
   ]
  },
  {
   "cell_type": "code",
   "execution_count": 74,
   "id": "1afdfe09",
   "metadata": {},
   "outputs": [
    {
     "ename": "ZeroDivisionError",
     "evalue": "division by zero",
     "output_type": "error",
     "traceback": [
      "\u001b[1;31m---------------------------------------------------------------------------\u001b[0m",
      "\u001b[1;31mZeroDivisionError\u001b[0m                         Traceback (most recent call last)",
      "\u001b[1;32m<ipython-input-74-4023e8002794>\u001b[0m in \u001b[0;36m<module>\u001b[1;34m\u001b[0m\n\u001b[1;32m----> 1\u001b[1;33m \u001b[0mprint\u001b[0m\u001b[1;33m(\u001b[0m\u001b[1;36m10\u001b[0m\u001b[1;33m/\u001b[0m\u001b[1;36m0\u001b[0m\u001b[1;33m)\u001b[0m   \u001b[1;31m# Runtime Error (division by zero)\u001b[0m\u001b[1;33m\u001b[0m\u001b[1;33m\u001b[0m\u001b[0m\n\u001b[0m",
      "\u001b[1;31mZeroDivisionError\u001b[0m: division by zero"
     ]
    }
   ],
   "source": [
    "print(10/0)   # Runtime Error (division by zero)"
   ]
  },
  {
   "cell_type": "code",
   "execution_count": 76,
   "id": "0ec7f56c",
   "metadata": {},
   "outputs": [
    {
     "name": "stdout",
     "output_type": "stream",
     "text": [
      "Hello, name\n"
     ]
    }
   ],
   "source": [
    "name = \"Muhammad Faizan AHmed\"\n",
    "print(\"Hello, name\")          # Semantic Error (our mistake)"
   ]
  }
 ],
 "metadata": {
  "kernelspec": {
   "display_name": "Python 3",
   "language": "python",
   "name": "python3"
  },
  "language_info": {
   "codemirror_mode": {
    "name": "ipython",
    "version": 3
   },
   "file_extension": ".py",
   "mimetype": "text/x-python",
   "name": "python",
   "nbconvert_exporter": "python",
   "pygments_lexer": "ipython3",
   "version": "3.8.8"
  }
 },
 "nbformat": 4,
 "nbformat_minor": 5
}
