{
 "cells": [
  {
   "cell_type": "markdown",
   "id": "30ef514f",
   "metadata": {},
   "source": [
    "# Data Structure Assigment"
   ]
  },
  {
   "cell_type": "markdown",
   "id": "db6c0145",
   "metadata": {},
   "source": [
    "## **1 - Tuples**\n",
    "\n",
    "1- ordered collection of elements                                                                          \n",
    "2- enclose in () round brackets                                                                          \n",
    "3- different types of elements can be used                                                                                  \n",
    "4- Once elements are stored you cannot change them(immutable) "
   ]
  },
  {
   "cell_type": "code",
   "execution_count": 1,
   "id": "de4cb634",
   "metadata": {},
   "outputs": [
    {
     "data": {
      "text/plain": [
       "(2, 'Muhammad Faizan Ahmed', 2.7, False, 78)"
      ]
     },
     "execution_count": 1,
     "metadata": {},
     "output_type": "execute_result"
    }
   ],
   "source": [
    "tup = (2, \"Muhammad Faizan Ahmed\", 2.7, False, 78)\n",
    "tup"
   ]
  },
  {
   "cell_type": "code",
   "execution_count": 2,
   "id": "8db4f88f",
   "metadata": {},
   "outputs": [
    {
     "data": {
      "text/plain": [
       "tuple"
      ]
     },
     "execution_count": 2,
     "metadata": {},
     "output_type": "execute_result"
    }
   ],
   "source": [
    "# Checking type\n",
    "type(tup)"
   ]
  },
  {
   "cell_type": "markdown",
   "id": "99a3ab59",
   "metadata": {},
   "source": [
    "### Indexing in Tuple"
   ]
  },
  {
   "cell_type": "code",
   "execution_count": 3,
   "id": "d3f3b009",
   "metadata": {},
   "outputs": [
    {
     "data": {
      "text/plain": [
       "'Muhammad Faizan Ahmed'"
      ]
     },
     "execution_count": 3,
     "metadata": {},
     "output_type": "execute_result"
    }
   ],
   "source": [
    "tup[1]"
   ]
  },
  {
   "cell_type": "code",
   "execution_count": 4,
   "id": "ce94acee",
   "metadata": {},
   "outputs": [
    {
     "data": {
      "text/plain": [
       "False"
      ]
     },
     "execution_count": 4,
     "metadata": {},
     "output_type": "execute_result"
    }
   ],
   "source": [
    "tup[3]"
   ]
  },
  {
   "cell_type": "code",
   "execution_count": 5,
   "id": "98a85708",
   "metadata": {},
   "outputs": [
    {
     "data": {
      "text/plain": [
       "('Muhammad Faizan Ahmed', 2.7)"
      ]
     },
     "execution_count": 5,
     "metadata": {},
     "output_type": "execute_result"
    }
   ],
   "source": [
    "tup[1:3]    # Last element is exclusive"
   ]
  },
  {
   "cell_type": "code",
   "execution_count": 6,
   "id": "15208131",
   "metadata": {},
   "outputs": [
    {
     "data": {
      "text/plain": [
       "('Muhammad Faizan Ahmed', False)"
      ]
     },
     "execution_count": 6,
     "metadata": {},
     "output_type": "execute_result"
    }
   ],
   "source": [
    "tup[1::2]"
   ]
  },
  {
   "cell_type": "code",
   "execution_count": 7,
   "id": "a8f34146",
   "metadata": {},
   "outputs": [
    {
     "data": {
      "text/plain": [
       "5"
      ]
     },
     "execution_count": 7,
     "metadata": {},
     "output_type": "execute_result"
    }
   ],
   "source": [
    "# Length of elements in tuple\n",
    "len(tup)"
   ]
  },
  {
   "cell_type": "code",
   "execution_count": 8,
   "id": "578ddbda",
   "metadata": {},
   "outputs": [
    {
     "data": {
      "text/plain": [
       "('Python', 3.5, 9, True)"
      ]
     },
     "execution_count": 8,
     "metadata": {},
     "output_type": "execute_result"
    }
   ],
   "source": [
    "tup2 = (\"Python\", 3.5, 9, True)\n",
    "tup2"
   ]
  },
  {
   "cell_type": "code",
   "execution_count": 9,
   "id": "08d502b0",
   "metadata": {},
   "outputs": [
    {
     "data": {
      "text/plain": [
       "(2, 'Muhammad Faizan Ahmed', 2.7, False, 78, 'Python', 3.5, 9, True)"
      ]
     },
     "execution_count": 9,
     "metadata": {},
     "output_type": "execute_result"
    }
   ],
   "source": [
    "# Adding two tuples(Concatenation) - adds the elements of second tuple after the first tuple elements\n",
    "tup3 = tup + tup2\n",
    "tup3"
   ]
  },
  {
   "cell_type": "code",
   "execution_count": 10,
   "id": "82a67512",
   "metadata": {},
   "outputs": [
    {
     "data": {
      "text/plain": [
       "(2,\n",
       " 'Muhammad Faizan Ahmed',\n",
       " 2.7,\n",
       " False,\n",
       " 78,\n",
       " 2,\n",
       " 'Muhammad Faizan Ahmed',\n",
       " 2.7,\n",
       " False,\n",
       " 78,\n",
       " 'Python',\n",
       " 3.5,\n",
       " 9,\n",
       " True)"
      ]
     },
     "execution_count": 10,
     "metadata": {},
     "output_type": "execute_result"
    }
   ],
   "source": [
    "# Concatenation + repeat\n",
    "tup4 = tup*2 + tup2\n",
    "tup4"
   ]
  },
  {
   "cell_type": "code",
   "execution_count": 11,
   "id": "d7dbd863",
   "metadata": {},
   "outputs": [
    {
     "data": {
      "text/plain": [
       "(20, 69, 73, 88, 94)"
      ]
     },
     "execution_count": 11,
     "metadata": {},
     "output_type": "execute_result"
    }
   ],
   "source": [
    "tup1 = (20,69,73,88,94)\n",
    "tup1"
   ]
  },
  {
   "cell_type": "code",
   "execution_count": 12,
   "id": "cc1c6bb4",
   "metadata": {},
   "outputs": [
    {
     "data": {
      "text/plain": [
       "20"
      ]
     },
     "execution_count": 12,
     "metadata": {},
     "output_type": "execute_result"
    }
   ],
   "source": [
    "# Minimum\n",
    "min(tup1)"
   ]
  },
  {
   "cell_type": "code",
   "execution_count": 13,
   "id": "dccac7f8",
   "metadata": {},
   "outputs": [
    {
     "data": {
      "text/plain": [
       "94"
      ]
     },
     "execution_count": 13,
     "metadata": {},
     "output_type": "execute_result"
    }
   ],
   "source": [
    "# Maximum\n",
    "max(tup1)"
   ]
  },
  {
   "cell_type": "code",
   "execution_count": 14,
   "id": "59b9ffc2",
   "metadata": {},
   "outputs": [
    {
     "data": {
      "text/plain": [
       "(20, 69, 73, 88, 94, 20, 69, 73, 88, 94)"
      ]
     },
     "execution_count": 14,
     "metadata": {},
     "output_type": "execute_result"
    }
   ],
   "source": [
    "# Repeat\n",
    "tup1 = tup1*2\n",
    "tup1"
   ]
  },
  {
   "cell_type": "markdown",
   "id": "231a06de",
   "metadata": {},
   "source": [
    "---"
   ]
  },
  {
   "cell_type": "markdown",
   "id": "3c2d64df",
   "metadata": {},
   "source": [
    "## **2 - List**\n",
    "\n",
    "1- ordered collection of elements                                                                                   \n",
    "2- enclosed in [] square brackets                                                                                \n",
    "3- Mutable, we can change the values in the list"
   ]
  },
  {
   "cell_type": "code",
   "execution_count": 15,
   "id": "29bb68ac",
   "metadata": {},
   "outputs": [
    {
     "data": {
      "text/plain": [
       "[2, 'Muhammad Faiazn Ahmed', True, 3.3]"
      ]
     },
     "execution_count": 15,
     "metadata": {},
     "output_type": "execute_result"
    }
   ],
   "source": [
    "list1 = [2, \"Muhammad Faiazn Ahmed\", True, 3.3]\n",
    "list1"
   ]
  },
  {
   "cell_type": "code",
   "execution_count": 16,
   "id": "3070c634",
   "metadata": {},
   "outputs": [
    {
     "data": {
      "text/plain": [
       "list"
      ]
     },
     "execution_count": 16,
     "metadata": {},
     "output_type": "execute_result"
    }
   ],
   "source": [
    "# Checking Type\n",
    "type(list1)"
   ]
  },
  {
   "cell_type": "code",
   "execution_count": 17,
   "id": "5adff3dd",
   "metadata": {},
   "outputs": [
    {
     "data": {
      "text/plain": [
       "4"
      ]
     },
     "execution_count": 17,
     "metadata": {},
     "output_type": "execute_result"
    }
   ],
   "source": [
    "# Length of list\n",
    "len(list1)"
   ]
  },
  {
   "cell_type": "markdown",
   "id": "0dc2450a",
   "metadata": {},
   "source": [
    "### Indexing of List"
   ]
  },
  {
   "cell_type": "code",
   "execution_count": 18,
   "id": "19097c1d",
   "metadata": {},
   "outputs": [
    {
     "data": {
      "text/plain": [
       "True"
      ]
     },
     "execution_count": 18,
     "metadata": {},
     "output_type": "execute_result"
    }
   ],
   "source": [
    "list1[2]"
   ]
  },
  {
   "cell_type": "code",
   "execution_count": 19,
   "id": "33a4c26f",
   "metadata": {},
   "outputs": [
    {
     "data": {
      "text/plain": [
       "[True, 3.3]"
      ]
     },
     "execution_count": 19,
     "metadata": {},
     "output_type": "execute_result"
    }
   ],
   "source": [
    "list1[2:4]"
   ]
  },
  {
   "cell_type": "code",
   "execution_count": 20,
   "id": "ee3ed62d",
   "metadata": {},
   "outputs": [
    {
     "data": {
      "text/plain": [
       "['Muhammad Faiazn Ahmed', 3.3]"
      ]
     },
     "execution_count": 20,
     "metadata": {},
     "output_type": "execute_result"
    }
   ],
   "source": [
    "list1[1::2]"
   ]
  },
  {
   "cell_type": "code",
   "execution_count": 21,
   "id": "0fbf35f2",
   "metadata": {},
   "outputs": [
    {
     "data": {
      "text/plain": [
       "['ML Chilla', 23, 5.96, True, 'Python Chilla']"
      ]
     },
     "execution_count": 21,
     "metadata": {},
     "output_type": "execute_result"
    }
   ],
   "source": [
    "list2 = [\"ML Chilla\", 23, 5.96, True, \"Python Chilla\"]\n",
    "list2"
   ]
  },
  {
   "cell_type": "code",
   "execution_count": 22,
   "id": "d8ec5d82",
   "metadata": {},
   "outputs": [
    {
     "data": {
      "text/plain": [
       "[2, 'Muhammad Faiazn Ahmed', True, 3.3]"
      ]
     },
     "execution_count": 22,
     "metadata": {},
     "output_type": "execute_result"
    }
   ],
   "source": [
    "list1"
   ]
  },
  {
   "cell_type": "code",
   "execution_count": 23,
   "id": "e4df7278",
   "metadata": {},
   "outputs": [
    {
     "data": {
      "text/plain": [
       "[2,\n",
       " 'Muhammad Faiazn Ahmed',\n",
       " True,\n",
       " 3.3,\n",
       " 'ML Chilla',\n",
       " 23,\n",
       " 5.96,\n",
       " True,\n",
       " 'Python Chilla']"
      ]
     },
     "execution_count": 23,
     "metadata": {},
     "output_type": "execute_result"
    }
   ],
   "source": [
    "# Concatenation\n",
    "list1 + list2"
   ]
  },
  {
   "cell_type": "code",
   "execution_count": 24,
   "id": "5a4d7a06",
   "metadata": {},
   "outputs": [
    {
     "data": {
      "text/plain": [
       "[2, 'Muhammad Faiazn Ahmed', True, 3.3, 2, 'Muhammad Faiazn Ahmed', True, 3.3]"
      ]
     },
     "execution_count": 24,
     "metadata": {},
     "output_type": "execute_result"
    }
   ],
   "source": [
    "# Repeatation\n",
    "list1*2"
   ]
  },
  {
   "cell_type": "markdown",
   "id": "20b7f337",
   "metadata": {},
   "source": [
    "### **List Operation**"
   ]
  },
  {
   "cell_type": "code",
   "execution_count": 25,
   "id": "6fef4701",
   "metadata": {},
   "outputs": [
    {
     "data": {
      "text/plain": [
       "[3.3, True, 'Muhammad Faiazn Ahmed', 2]"
      ]
     },
     "execution_count": 25,
     "metadata": {},
     "output_type": "execute_result"
    }
   ],
   "source": [
    "# Reverse function\n",
    "\n",
    "list1.reverse()\n",
    "list1"
   ]
  },
  {
   "cell_type": "code",
   "execution_count": 26,
   "id": "5d30fb86",
   "metadata": {},
   "outputs": [
    {
     "data": {
      "text/plain": [
       "[3.3, True, 'Muhammad Faiazn Ahmed', 2, 'Hello! Ammar Bhai']"
      ]
     },
     "execution_count": 26,
     "metadata": {},
     "output_type": "execute_result"
    }
   ],
   "source": [
    "# Append function - add the element in last location of the last\n",
    "\n",
    "list1.append(\"Hello! Ammar Bhai\")\n",
    "list1"
   ]
  },
  {
   "cell_type": "code",
   "execution_count": 27,
   "id": "da31be73",
   "metadata": {},
   "outputs": [
    {
     "data": {
      "text/plain": [
       "[]"
      ]
     },
     "execution_count": 27,
     "metadata": {},
     "output_type": "execute_result"
    }
   ],
   "source": [
    "# Clear function - clears the whole list\n",
    "\n",
    "list1.clear()\n",
    "list1"
   ]
  },
  {
   "cell_type": "code",
   "execution_count": 28,
   "id": "ae77f835",
   "metadata": {},
   "outputs": [
    {
     "data": {
      "text/plain": [
       "['ML Chilla', 23, 5.96, True, 'Python Chilla']"
      ]
     },
     "execution_count": 28,
     "metadata": {},
     "output_type": "execute_result"
    }
   ],
   "source": [
    "list2"
   ]
  },
  {
   "cell_type": "code",
   "execution_count": 29,
   "id": "db71f22c",
   "metadata": {},
   "outputs": [
    {
     "data": {
      "text/plain": [
       "['ML Chilla', 23, 5.96, True]"
      ]
     },
     "execution_count": 29,
     "metadata": {},
     "output_type": "execute_result"
    }
   ],
   "source": [
    "# Pop function - Removes the last element\n",
    "\n",
    "list2.pop()\n",
    "list2"
   ]
  },
  {
   "cell_type": "markdown",
   "id": "a4c2b805",
   "metadata": {},
   "source": [
    "## **Assignmnet Project - Count Function** "
   ]
  },
  {
   "cell_type": "code",
   "execution_count": 30,
   "id": "872b1fc8",
   "metadata": {},
   "outputs": [
    {
     "data": {
      "text/plain": [
       "1"
      ]
     },
     "execution_count": 30,
     "metadata": {},
     "output_type": "execute_result"
    }
   ],
   "source": [
    "# Count function - counts the no. of element present in the list\n",
    "list2.count(\"ML Chilla\")"
   ]
  },
  {
   "cell_type": "code",
   "execution_count": 31,
   "id": "53d553c2",
   "metadata": {},
   "outputs": [
    {
     "data": {
      "text/plain": [
       "['ML Chilla', 23, 5.96, True]"
      ]
     },
     "execution_count": 31,
     "metadata": {},
     "output_type": "execute_result"
    }
   ],
   "source": [
    "# Copy function - copies the same list in another variable\n",
    "\n",
    "list3 = list2.copy()\n",
    "list3"
   ]
  },
  {
   "cell_type": "code",
   "execution_count": 32,
   "id": "92769ef9",
   "metadata": {},
   "outputs": [
    {
     "data": {
      "text/plain": [
       "['ML Chilla', 23, 5.96, True]"
      ]
     },
     "execution_count": 32,
     "metadata": {},
     "output_type": "execute_result"
    }
   ],
   "source": [
    "list2"
   ]
  },
  {
   "cell_type": "code",
   "execution_count": 33,
   "id": "519036e6",
   "metadata": {},
   "outputs": [
    {
     "data": {
      "text/plain": [
       "['Ammar Bhai', 'Muhammad Faizan Ahmed', 5, 7.9, True]"
      ]
     },
     "execution_count": 33,
     "metadata": {},
     "output_type": "execute_result"
    }
   ],
   "source": [
    "list4 = [\"Ammar Bhai\", \"Muhammad Faizan Ahmed\", 5, 7.9, True]\n",
    "list4"
   ]
  },
  {
   "cell_type": "code",
   "execution_count": 34,
   "id": "6678ccc6",
   "metadata": {},
   "outputs": [
    {
     "data": {
      "text/plain": [
       "['ML Chilla',\n",
       " 23,\n",
       " 5.96,\n",
       " True,\n",
       " 'Ammar Bhai',\n",
       " 'Muhammad Faizan Ahmed',\n",
       " 5,\n",
       " 7.9,\n",
       " True]"
      ]
     },
     "execution_count": 34,
     "metadata": {},
     "output_type": "execute_result"
    }
   ],
   "source": [
    "# Extend function - add one list in another list at the end\n",
    "\n",
    "list2.extend(list4)\n",
    "list2"
   ]
  },
  {
   "cell_type": "code",
   "execution_count": 35,
   "id": "3330a401",
   "metadata": {},
   "outputs": [
    {
     "data": {
      "text/plain": [
       "[29, 19, 57, 45, 30, 100, 22]"
      ]
     },
     "execution_count": 35,
     "metadata": {},
     "output_type": "execute_result"
    }
   ],
   "source": [
    "list5 = [29, 19, 57, 45, 30, 100, 22]\n",
    "list5"
   ]
  },
  {
   "cell_type": "code",
   "execution_count": 36,
   "id": "c82773fc",
   "metadata": {},
   "outputs": [
    {
     "data": {
      "text/plain": [
       "[19, 22, 29, 30, 45, 57, 100]"
      ]
     },
     "execution_count": 36,
     "metadata": {},
     "output_type": "execute_result"
    }
   ],
   "source": [
    "# Sort function - sorts the elements of the list\n",
    "\n",
    "list5.sort()\n",
    "list5"
   ]
  },
  {
   "cell_type": "code",
   "execution_count": 37,
   "id": "7e48e345",
   "metadata": {},
   "outputs": [
    {
     "data": {
      "text/plain": [
       "['ML Chilla',\n",
       " 23,\n",
       " 5.96,\n",
       " True,\n",
       " 'Ammar Bhai',\n",
       " 'Muhammad Faizan Ahmed',\n",
       " 5,\n",
       " 7.9,\n",
       " True]"
      ]
     },
     "execution_count": 37,
     "metadata": {},
     "output_type": "execute_result"
    }
   ],
   "source": [
    "list2"
   ]
  },
  {
   "cell_type": "code",
   "execution_count": 38,
   "id": "4a4cea5f",
   "metadata": {},
   "outputs": [
    {
     "data": {
      "text/plain": [
       "4"
      ]
     },
     "execution_count": 38,
     "metadata": {},
     "output_type": "execute_result"
    }
   ],
   "source": [
    "# Index function - gives the index of any element present in the list\n",
    "list2.index(\"Ammar Bhai\")"
   ]
  },
  {
   "cell_type": "code",
   "execution_count": 39,
   "id": "05ba8fd3",
   "metadata": {},
   "outputs": [
    {
     "data": {
      "text/plain": [
       "['ML Chilla',\n",
       " 23,\n",
       " 5.96,\n",
       " 'Python Chilla',\n",
       " True,\n",
       " 'Ammar Bhai',\n",
       " 'Muhammad Faizan Ahmed',\n",
       " 5,\n",
       " 7.9,\n",
       " True]"
      ]
     },
     "execution_count": 39,
     "metadata": {},
     "output_type": "execute_result"
    }
   ],
   "source": [
    "# Insert function - inserts the elements at any particular index\n",
    "list2.insert(3,\"Python Chilla\")\n",
    "list2"
   ]
  },
  {
   "cell_type": "code",
   "execution_count": 40,
   "id": "2c154edc",
   "metadata": {},
   "outputs": [
    {
     "data": {
      "text/plain": [
       "['ML Chilla',\n",
       " 23,\n",
       " 5.96,\n",
       " 'Python Chilla',\n",
       " True,\n",
       " 'Muhammad Faizan Ahmed',\n",
       " 5,\n",
       " 7.9,\n",
       " True]"
      ]
     },
     "execution_count": 40,
     "metadata": {},
     "output_type": "execute_result"
    }
   ],
   "source": [
    "# Remove function - removes any particular element in the list\n",
    "list2.remove(\"Ammar Bhai\")\n",
    "list2"
   ]
  },
  {
   "cell_type": "markdown",
   "id": "f655b90c",
   "metadata": {},
   "source": [
    "----"
   ]
  },
  {
   "cell_type": "markdown",
   "id": "92397f1b",
   "metadata": {},
   "source": [
    "## **2 - Dictionaries**\n",
    "\n",
    "1- An unordered collection of elements                                                                        \n",
    "2- Key and Value                                                                                     \n",
    "3- enclosed in {} curly brackets                                                                                                 \n",
    "4- Mutable - values can be changed"
   ]
  },
  {
   "cell_type": "code",
   "execution_count": 41,
   "id": "fe9d51b3",
   "metadata": {},
   "outputs": [
    {
     "data": {
      "text/plain": [
       "{'Biryani': 100, 'Alu Matar': 80, 'Roti': 12, 'Samosa': 15, 'Qourma': 150}"
      ]
     },
     "execution_count": 41,
     "metadata": {},
     "output_type": "execute_result"
    }
   ],
   "source": [
    "# Restaurant Menu\n",
    "\n",
    "Menu_Prices = {\"Biryani\" : 100, \"Alu Matar\" : 80, \"Roti\" : 12, \"Samosa\" : 15, \"Qourma\" : 150}\n",
    "Menu_Prices"
   ]
  },
  {
   "cell_type": "code",
   "execution_count": 42,
   "id": "8fe64db0",
   "metadata": {},
   "outputs": [
    {
     "data": {
      "text/plain": [
       "dict"
      ]
     },
     "execution_count": 42,
     "metadata": {},
     "output_type": "execute_result"
    }
   ],
   "source": [
    "# Checking Type\n",
    "type(Menu_Prices)"
   ]
  },
  {
   "cell_type": "markdown",
   "id": "48450fc2",
   "metadata": {},
   "source": [
    "### List Operation"
   ]
  },
  {
   "cell_type": "code",
   "execution_count": 43,
   "id": "b2821556",
   "metadata": {},
   "outputs": [
    {
     "data": {
      "text/plain": [
       "dict_keys(['Biryani', 'Alu Matar', 'Roti', 'Samosa', 'Qourma'])"
      ]
     },
     "execution_count": 43,
     "metadata": {},
     "output_type": "execute_result"
    }
   ],
   "source": [
    "# Keys function - Extracts Keys \n",
    "\n",
    "Menu_Prices.keys()"
   ]
  },
  {
   "cell_type": "code",
   "execution_count": 44,
   "id": "1acd292d",
   "metadata": {},
   "outputs": [
    {
     "data": {
      "text/plain": [
       "dict_values([100, 80, 12, 15, 150])"
      ]
     },
     "execution_count": 44,
     "metadata": {},
     "output_type": "execute_result"
    }
   ],
   "source": [
    "# Values function - Extracts Value\n",
    "\n",
    "Menu_Prices.values()"
   ]
  },
  {
   "cell_type": "code",
   "execution_count": 45,
   "id": "1e27cae1",
   "metadata": {},
   "outputs": [
    {
     "data": {
      "text/plain": [
       "dict_items([('Biryani', 100), ('Alu Matar', 80), ('Roti', 12), ('Samosa', 15), ('Qourma', 150)])"
      ]
     },
     "execution_count": 45,
     "metadata": {},
     "output_type": "execute_result"
    }
   ],
   "source": [
    "# Items function - Extracts Items\n",
    "\n",
    "Menu_Prices.items()"
   ]
  },
  {
   "cell_type": "code",
   "execution_count": 46,
   "id": "ecc44aad",
   "metadata": {},
   "outputs": [
    {
     "data": {
      "text/plain": [
       "{'Biryani': 100,\n",
       " 'Alu Matar': 80,\n",
       " 'Roti': 12,\n",
       " 'Samosa': 15,\n",
       " 'Qourma': 150,\n",
       " 'Bhindi': 80}"
      ]
     },
     "execution_count": 46,
     "metadata": {},
     "output_type": "execute_result"
    }
   ],
   "source": [
    "# Adding element in dictionary\n",
    "\n",
    "Menu_Prices[\"Bhindi\"] = 80\n",
    "Menu_Prices"
   ]
  },
  {
   "cell_type": "code",
   "execution_count": 47,
   "id": "f2b91c27",
   "metadata": {},
   "outputs": [
    {
     "data": {
      "text/plain": [
       "{'Biryani': 100,\n",
       " 'Alu Matar': 80,\n",
       " 'Roti': 12,\n",
       " 'Samosa': 20,\n",
       " 'Qourma': 150,\n",
       " 'Bhindi': 80}"
      ]
     },
     "execution_count": 47,
     "metadata": {},
     "output_type": "execute_result"
    }
   ],
   "source": [
    "# Updating the values\n",
    "\n",
    "Menu_Prices[\"Samosa\"] = 20\n",
    "Menu_Prices"
   ]
  },
  {
   "cell_type": "code",
   "execution_count": 48,
   "id": "d6160295",
   "metadata": {},
   "outputs": [
    {
     "data": {
      "text/plain": [
       "{'Snacks': 50, 'Chocolate': 20, 'Biscuit': 10}"
      ]
     },
     "execution_count": 48,
     "metadata": {},
     "output_type": "execute_result"
    }
   ],
   "source": [
    "Menu2_Prices = {\"Snacks\" : 50, \"Chocolate\" : 20, \"Biscuit\" : 10}\n",
    "Menu2_Prices"
   ]
  },
  {
   "cell_type": "code",
   "execution_count": 49,
   "id": "4f846fe5",
   "metadata": {},
   "outputs": [
    {
     "data": {
      "text/plain": [
       "{'Biryani': 100,\n",
       " 'Alu Matar': 80,\n",
       " 'Roti': 12,\n",
       " 'Samosa': 20,\n",
       " 'Qourma': 150,\n",
       " 'Bhindi': 80,\n",
       " 'Snacks': 50,\n",
       " 'Chocolate': 20,\n",
       " 'Biscuit': 10}"
      ]
     },
     "execution_count": 49,
     "metadata": {},
     "output_type": "execute_result"
    }
   ],
   "source": [
    "# Update function\n",
    "\n",
    "Menu_Prices.update(Menu2_Prices)\n",
    "Menu_Prices"
   ]
  },
  {
   "cell_type": "code",
   "execution_count": 50,
   "id": "f48feab0",
   "metadata": {},
   "outputs": [
    {
     "data": {
      "text/plain": [
       "{}"
      ]
     },
     "execution_count": 50,
     "metadata": {},
     "output_type": "execute_result"
    }
   ],
   "source": [
    "# Clear function - clears the dictionary\n",
    "\n",
    "Menu2_Prices.clear()\n",
    "Menu2_Prices"
   ]
  },
  {
   "cell_type": "code",
   "execution_count": 51,
   "id": "9581c29a",
   "metadata": {},
   "outputs": [
    {
     "data": {
      "text/plain": [
       "100"
      ]
     },
     "execution_count": 51,
     "metadata": {},
     "output_type": "execute_result"
    }
   ],
   "source": [
    "# Get function - getting the value of given key\n",
    "\n",
    "Menu_Prices.get(\"Biryani\")"
   ]
  },
  {
   "cell_type": "code",
   "execution_count": 52,
   "id": "e6939d3b",
   "metadata": {},
   "outputs": [
    {
     "data": {
      "text/plain": [
       "{'Biryani': 100,\n",
       " 'Alu Matar': 80,\n",
       " 'Roti': 12,\n",
       " 'Samosa': 20,\n",
       " 'Qourma': 150,\n",
       " 'Bhindi': 80,\n",
       " 'Snacks': 50,\n",
       " 'Chocolate': 20,\n",
       " 'Biscuit': 10}"
      ]
     },
     "execution_count": 52,
     "metadata": {},
     "output_type": "execute_result"
    }
   ],
   "source": [
    "# Copy function - copies all the elements from dictionary into another variable\n",
    "\n",
    "New_Menu = Menu_Prices.copy()\n",
    "\n",
    "\n",
    "New_Menu"
   ]
  },
  {
   "cell_type": "code",
   "execution_count": 53,
   "id": "3497ac7c",
   "metadata": {},
   "outputs": [
    {
     "data": {
      "text/plain": [
       "{'Biryani': 100,\n",
       " 'Alu Matar': 80,\n",
       " 'Roti': 12,\n",
       " 'Samosa': 20,\n",
       " 'Qourma': 150,\n",
       " 'Bhindi': 80,\n",
       " 'Snacks': 50,\n",
       " 'Chocolate': 20}"
      ]
     },
     "execution_count": 53,
     "metadata": {},
     "output_type": "execute_result"
    }
   ],
   "source": [
    "# Popitem function - removes the last element from dictionary\n",
    "\n",
    "New_Menu.popitem()\n",
    "New_Menu"
   ]
  },
  {
   "cell_type": "code",
   "execution_count": 54,
   "id": "d91203ef",
   "metadata": {},
   "outputs": [
    {
     "data": {
      "text/plain": [
       "{'Alu Matar': 80,\n",
       " 'Roti': 12,\n",
       " 'Samosa': 20,\n",
       " 'Qourma': 150,\n",
       " 'Bhindi': 80,\n",
       " 'Snacks': 50,\n",
       " 'Chocolate': 20}"
      ]
     },
     "execution_count": 54,
     "metadata": {},
     "output_type": "execute_result"
    }
   ],
   "source": [
    "# Pop function - removes any particular element from dictionary\n",
    "\n",
    "New_Menu.pop(\"Biryani\")\n",
    "New_Menu"
   ]
  },
  {
   "cell_type": "code",
   "execution_count": 55,
   "id": "46b4753a",
   "metadata": {},
   "outputs": [
    {
     "data": {
      "text/plain": [
       "{'A': 10, 'l': 10, 'u': 10, ' ': 10, 'M': 10, 'a': 10, 't': 10, 'r': 10}"
      ]
     },
     "execution_count": 55,
     "metadata": {},
     "output_type": "execute_result"
    }
   ],
   "source": [
    "# fromkeys function - assigns each letter a specific value \n",
    "\n",
    "New_Menu.fromkeys(\"Alu Matar\", 10)"
   ]
  },
  {
   "cell_type": "code",
   "execution_count": 56,
   "id": "5afc0e57",
   "metadata": {},
   "outputs": [
    {
     "data": {
      "text/plain": [
       "50"
      ]
     },
     "execution_count": 56,
     "metadata": {},
     "output_type": "execute_result"
    }
   ],
   "source": [
    "# setdefault function - gets the value of any particular key\n",
    "\n",
    "New_Menu.setdefault(\"Snacks\")"
   ]
  },
  {
   "cell_type": "markdown",
   "id": "39d2571d",
   "metadata": {},
   "source": [
    "---"
   ]
  },
  {
   "cell_type": "markdown",
   "id": "edcfa3a9",
   "metadata": {},
   "source": [
    "## **4 - Set**\n",
    "\n",
    "1- Unordered and Indexed                                                                                        \n",
    "2- enclose in {} curly braces                                                                                             \n",
    "3- No duplicates are allowed"
   ]
  },
  {
   "cell_type": "code",
   "execution_count": 57,
   "id": "fb59d02a",
   "metadata": {},
   "outputs": [
    {
     "data": {
      "text/plain": [
       "{2, 89.4, False, 'Muhammad Faizan Ahmed'}"
      ]
     },
     "execution_count": 57,
     "metadata": {},
     "output_type": "execute_result"
    }
   ],
   "source": [
    "set1 = {2, 89.4, \"Muhammad Faizan Ahmed\", False}   \n",
    "set1"
   ]
  },
  {
   "cell_type": "code",
   "execution_count": 58,
   "id": "d56ce989",
   "metadata": {},
   "outputs": [
    {
     "data": {
      "text/plain": [
       "set"
      ]
     },
     "execution_count": 58,
     "metadata": {},
     "output_type": "execute_result"
    }
   ],
   "source": [
    "# Checking Type\n",
    "\n",
    "type(set1)"
   ]
  },
  {
   "cell_type": "code",
   "execution_count": 59,
   "id": "efeae5c8",
   "metadata": {},
   "outputs": [
    {
     "data": {
      "text/plain": [
       "4"
      ]
     },
     "execution_count": 59,
     "metadata": {},
     "output_type": "execute_result"
    }
   ],
   "source": [
    "# Length of Set\n",
    "\n",
    "len(set1)"
   ]
  },
  {
   "cell_type": "markdown",
   "id": "7278219f",
   "metadata": {},
   "source": [
    "### Set Operation"
   ]
  },
  {
   "cell_type": "code",
   "execution_count": 60,
   "id": "58e76e5e",
   "metadata": {},
   "outputs": [
    {
     "data": {
      "text/plain": [
       "{2, 89.4, False, 'ML Chilla', 'Muhammad Faizan Ahmed'}"
      ]
     },
     "execution_count": 60,
     "metadata": {},
     "output_type": "execute_result"
    }
   ],
   "source": [
    "# Adding elements in Set\n",
    "\n",
    "set1.add(\"ML Chilla\")\n",
    "set1"
   ]
  },
  {
   "cell_type": "code",
   "execution_count": 61,
   "id": "34a60f6d",
   "metadata": {},
   "outputs": [
    {
     "data": {
      "text/plain": [
       "{2, False, 'ML Chilla', 'Muhammad Faizan Ahmed'}"
      ]
     },
     "execution_count": 61,
     "metadata": {},
     "output_type": "execute_result"
    }
   ],
   "source": [
    "# Removing elements from Set\n",
    "\n",
    "set1.remove(89.4)\n",
    "set1"
   ]
  },
  {
   "cell_type": "code",
   "execution_count": 62,
   "id": "c47ce0b1",
   "metadata": {},
   "outputs": [
    {
     "data": {
      "text/plain": [
       "{2, False, 'ML Chilla', 'Muhammad Faizan Ahmed'}"
      ]
     },
     "execution_count": 62,
     "metadata": {},
     "output_type": "execute_result"
    }
   ],
   "source": [
    "set1"
   ]
  },
  {
   "cell_type": "code",
   "execution_count": 63,
   "id": "a0f55ea9",
   "metadata": {},
   "outputs": [
    {
     "data": {
      "text/plain": [
       "{2, False, 'ML Chilla', 'Muhammad Faizan Ahmed'}"
      ]
     },
     "execution_count": 63,
     "metadata": {},
     "output_type": "execute_result"
    }
   ],
   "source": [
    "# Copy function = copies the same set into another variable\n",
    "\n",
    "set2 = set1.copy()\n",
    "set2"
   ]
  },
  {
   "cell_type": "code",
   "execution_count": 64,
   "id": "2f2eae1a",
   "metadata": {},
   "outputs": [
    {
     "data": {
      "text/plain": [
       "set()"
      ]
     },
     "execution_count": 64,
     "metadata": {},
     "output_type": "execute_result"
    }
   ],
   "source": [
    "# Clear function - clears the whole set\n",
    "\n",
    "set1.clear()\n",
    "set1"
   ]
  },
  {
   "cell_type": "code",
   "execution_count": 65,
   "id": "9e8821d8",
   "metadata": {},
   "outputs": [
    {
     "data": {
      "text/plain": [
       "{2, 'ML Chilla', 'Muhammad Faizan Ahmed'}"
      ]
     },
     "execution_count": 65,
     "metadata": {},
     "output_type": "execute_result"
    }
   ],
   "source": [
    "# Pop function - randomly removes the element from set\n",
    "\n",
    "set2.pop()\n",
    "set2"
   ]
  },
  {
   "cell_type": "code",
   "execution_count": 66,
   "id": "c89c3ac3",
   "metadata": {},
   "outputs": [
    {
     "data": {
      "text/plain": [
       "{5}"
      ]
     },
     "execution_count": 66,
     "metadata": {},
     "output_type": "execute_result"
    }
   ],
   "source": [
    "set1.add(5)\n",
    "set1"
   ]
  },
  {
   "cell_type": "code",
   "execution_count": 67,
   "id": "79acc819",
   "metadata": {},
   "outputs": [
    {
     "data": {
      "text/plain": [
       "{1, 2, 5, 6, 7, 8, 9}"
      ]
     },
     "execution_count": 67,
     "metadata": {},
     "output_type": "execute_result"
    }
   ],
   "source": [
    "# Union function \n",
    "\n",
    "set3 = {2,5,6,8}\n",
    "set4 = {2,7,6,1,8,5,9}\n",
    "\n",
    "set3.union(set4)"
   ]
  },
  {
   "cell_type": "code",
   "execution_count": 68,
   "id": "7ddbeafc",
   "metadata": {},
   "outputs": [
    {
     "data": {
      "text/plain": [
       "{2, 5, 6, 8}"
      ]
     },
     "execution_count": 68,
     "metadata": {},
     "output_type": "execute_result"
    }
   ],
   "source": [
    "# Intersection Function \n",
    "\n",
    "set3.intersection(set4)"
   ]
  },
  {
   "cell_type": "code",
   "execution_count": 69,
   "id": "8ad32c8e",
   "metadata": {},
   "outputs": [
    {
     "data": {
      "text/plain": [
       "True"
      ]
     },
     "execution_count": 69,
     "metadata": {},
     "output_type": "execute_result"
    }
   ],
   "source": [
    "# Subset function - checks whether one set is subset of another set\n",
    "\n",
    "set3.issubset(set4)"
   ]
  },
  {
   "cell_type": "code",
   "execution_count": 70,
   "id": "c4279104",
   "metadata": {},
   "outputs": [
    {
     "data": {
      "text/plain": [
       "True"
      ]
     },
     "execution_count": 70,
     "metadata": {},
     "output_type": "execute_result"
    }
   ],
   "source": [
    "# Superset function - checks whether one set is superset of another set\n",
    "\n",
    "set4.issuperset(set3)"
   ]
  },
  {
   "cell_type": "code",
   "execution_count": 71,
   "id": "8dda1d18",
   "metadata": {},
   "outputs": [
    {
     "data": {
      "text/plain": [
       "{1, 7, 9}"
      ]
     },
     "execution_count": 71,
     "metadata": {},
     "output_type": "execute_result"
    }
   ],
   "source": [
    "# Difference function\n",
    "\n",
    "set4.difference(set3)"
   ]
  },
  {
   "cell_type": "code",
   "execution_count": 72,
   "id": "1f3324a7",
   "metadata": {},
   "outputs": [
    {
     "data": {
      "text/plain": [
       "{1, 2, 5, 6, 7, 8, 9}"
      ]
     },
     "execution_count": 72,
     "metadata": {},
     "output_type": "execute_result"
    }
   ],
   "source": [
    "set4"
   ]
  },
  {
   "cell_type": "code",
   "execution_count": 73,
   "id": "876277f2",
   "metadata": {},
   "outputs": [
    {
     "data": {
      "text/plain": [
       "{1, 2, 6, 7, 8, 9}"
      ]
     },
     "execution_count": 73,
     "metadata": {},
     "output_type": "execute_result"
    }
   ],
   "source": [
    "# Discard function\n",
    "\n",
    "set4.discard(5)\n",
    "set4"
   ]
  },
  {
   "cell_type": "code",
   "execution_count": 74,
   "id": "443507dc",
   "metadata": {},
   "outputs": [
    {
     "data": {
      "text/plain": [
       "{1, 5, 7, 9}"
      ]
     },
     "execution_count": 74,
     "metadata": {},
     "output_type": "execute_result"
    }
   ],
   "source": [
    "# Symmetric function\n",
    "\n",
    "set4.symmetric_difference(set3)"
   ]
  },
  {
   "cell_type": "code",
   "execution_count": 75,
   "id": "41a3d547",
   "metadata": {},
   "outputs": [
    {
     "data": {
      "text/plain": [
       "False"
      ]
     },
     "execution_count": 75,
     "metadata": {},
     "output_type": "execute_result"
    }
   ],
   "source": [
    "# Isdisjoint function\n",
    "\n",
    "set4.isdisjoint(set3)"
   ]
  }
 ],
 "metadata": {
  "kernelspec": {
   "display_name": "Python 3",
   "language": "python",
   "name": "python3"
  },
  "language_info": {
   "codemirror_mode": {
    "name": "ipython",
    "version": 3
   },
   "file_extension": ".py",
   "mimetype": "text/x-python",
   "name": "python",
   "nbconvert_exporter": "python",
   "pygments_lexer": "ipython3",
   "version": "3.8.8"
  }
 },
 "nbformat": 4,
 "nbformat_minor": 5
}
