{
 "cells": [
  {
   "cell_type": "markdown",
   "id": "9cfcf01e",
   "metadata": {},
   "source": [
    "# Multiple Linear Regression Model"
   ]
  },
  {
   "cell_type": "markdown",
   "id": "068663b6",
   "metadata": {},
   "source": [
    "# Step 1 - *Importing Libraries*"
   ]
  },
  {
   "cell_type": "code",
   "execution_count": 1,
   "id": "e9b5b53e",
   "metadata": {},
   "outputs": [],
   "source": [
    "import numpy as np\n",
    "import pandas as pd\n",
    "from sklearn.linear_model import LinearRegression\n",
    "from sklearn.model_selection import train_test_split\n",
    "import matplotlib.pyplot as plt"
   ]
  },
  {
   "cell_type": "markdown",
   "id": "e69294b3",
   "metadata": {},
   "source": [
    "# Step 2 - *Importing Dataset*"
   ]
  },
  {
   "cell_type": "code",
   "execution_count": 2,
   "id": "8a131968",
   "metadata": {},
   "outputs": [
    {
     "data": {
      "text/html": [
       "<div>\n",
       "<style scoped>\n",
       "    .dataframe tbody tr th:only-of-type {\n",
       "        vertical-align: middle;\n",
       "    }\n",
       "\n",
       "    .dataframe tbody tr th {\n",
       "        vertical-align: top;\n",
       "    }\n",
       "\n",
       "    .dataframe thead th {\n",
       "        text-align: right;\n",
       "    }\n",
       "</style>\n",
       "<table border=\"1\" class=\"dataframe\">\n",
       "  <thead>\n",
       "    <tr style=\"text-align: right;\">\n",
       "      <th></th>\n",
       "      <th>YearsExperience</th>\n",
       "      <th>Age</th>\n",
       "      <th>Salary</th>\n",
       "    </tr>\n",
       "  </thead>\n",
       "  <tbody>\n",
       "    <tr>\n",
       "      <th>0</th>\n",
       "      <td>1.1</td>\n",
       "      <td>21.0</td>\n",
       "      <td>39343</td>\n",
       "    </tr>\n",
       "    <tr>\n",
       "      <th>1</th>\n",
       "      <td>1.3</td>\n",
       "      <td>21.5</td>\n",
       "      <td>46205</td>\n",
       "    </tr>\n",
       "    <tr>\n",
       "      <th>2</th>\n",
       "      <td>1.5</td>\n",
       "      <td>21.7</td>\n",
       "      <td>37731</td>\n",
       "    </tr>\n",
       "    <tr>\n",
       "      <th>3</th>\n",
       "      <td>2.0</td>\n",
       "      <td>22.0</td>\n",
       "      <td>43525</td>\n",
       "    </tr>\n",
       "    <tr>\n",
       "      <th>4</th>\n",
       "      <td>2.2</td>\n",
       "      <td>22.2</td>\n",
       "      <td>39891</td>\n",
       "    </tr>\n",
       "  </tbody>\n",
       "</table>\n",
       "</div>"
      ],
      "text/plain": [
       "   YearsExperience   Age  Salary\n",
       "0              1.1  21.0   39343\n",
       "1              1.3  21.5   46205\n",
       "2              1.5  21.7   37731\n",
       "3              2.0  22.0   43525\n",
       "4              2.2  22.2   39891"
      ]
     },
     "execution_count": 2,
     "metadata": {},
     "output_type": "execute_result"
    }
   ],
   "source": [
    "df = pd.read_csv(\"Dataset\\Salary_Data.csv\")\n",
    "df.head()"
   ]
  },
  {
   "cell_type": "markdown",
   "id": "28acd886",
   "metadata": {},
   "source": [
    "# Step 3 - *Splitting dataset into training data and testing data*"
   ]
  },
  {
   "cell_type": "code",
   "execution_count": 3,
   "id": "92fb279d",
   "metadata": {},
   "outputs": [],
   "source": [
    "x = df[[\"YearsExperience\",\"Age\"]]\n",
    "y = df[\"Salary\"]"
   ]
  },
  {
   "cell_type": "markdown",
   "id": "fe29b8b0",
   "metadata": {},
   "source": [
    "# Step 4 - *Fit Linear Regression Model*"
   ]
  },
  {
   "cell_type": "code",
   "execution_count": 4,
   "id": "fff392e0",
   "metadata": {},
   "outputs": [
    {
     "data": {
      "text/plain": [
       "LinearRegression()"
      ]
     },
     "execution_count": 4,
     "metadata": {},
     "output_type": "execute_result"
    }
   ],
   "source": [
    "model = LinearRegression()\n",
    "model = model.fit(x, y)\n",
    "\n",
    "model"
   ]
  },
  {
   "cell_type": "code",
   "execution_count": 5,
   "id": "889e487b",
   "metadata": {},
   "outputs": [
    {
     "data": {
      "text/plain": [
       "array([6153.35330145, 1836.01359426])"
      ]
     },
     "execution_count": 5,
     "metadata": {},
     "output_type": "execute_result"
    }
   ],
   "source": [
    "# Coefficients of Model\n",
    "\n",
    "model.coef_"
   ]
  },
  {
   "cell_type": "code",
   "execution_count": 6,
   "id": "529541a7",
   "metadata": {},
   "outputs": [
    {
     "data": {
      "text/plain": [
       "-6661.98719881312"
      ]
     },
     "execution_count": 6,
     "metadata": {},
     "output_type": "execute_result"
    }
   ],
   "source": [
    "# Intercept of Model\n",
    "\n",
    "b = model.intercept_\n",
    "b"
   ]
  },
  {
   "cell_type": "code",
   "execution_count": 7,
   "id": "77386b80",
   "metadata": {},
   "outputs": [],
   "source": [
    "i1 = model.coef_[0]\n",
    "i2 = model.coef_[1]"
   ]
  },
  {
   "cell_type": "markdown",
   "id": "ba42d8d4",
   "metadata": {},
   "source": [
    "# Step 5 - *Prediction*\n",
    "\n",
    " **Formula for Prediction : Salary = i1*YearsExperience + 12*Age + b**"
   ]
  },
  {
   "cell_type": "code",
   "execution_count": 8,
   "id": "ab255307",
   "metadata": {},
   "outputs": [
    {
     "data": {
      "text/plain": [
       "array([38662.98691225])"
      ]
     },
     "execution_count": 8,
     "metadata": {},
     "output_type": "execute_result"
    }
   ],
   "source": [
    "model.predict([[1.1,21]])"
   ]
  }
 ],
 "metadata": {
  "kernelspec": {
   "display_name": "Python 3",
   "language": "python",
   "name": "python3"
  },
  "language_info": {
   "codemirror_mode": {
    "name": "ipython",
    "version": 3
   },
   "file_extension": ".py",
   "mimetype": "text/x-python",
   "name": "python",
   "nbconvert_exporter": "python",
   "pygments_lexer": "ipython3",
   "version": "3.8.8"
  }
 },
 "nbformat": 4,
 "nbformat_minor": 5
}
